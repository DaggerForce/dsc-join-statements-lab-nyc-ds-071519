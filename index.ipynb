{
 "cells": [
  {
   "cell_type": "markdown",
   "metadata": {},
   "source": [
    "# Join Statements - Lab\n",
    "\n",
    "## Introduction\n",
    "\n",
    "In this lab, you'll practice your knowledge of join statements, using various types of joins and various methods for specifying the links between them.\n",
    "\n",
    "## Objectives\n",
    "\n",
    "You will be able to:\n",
    "- Write queries that make use of various types of Joins\n",
    "- Join tables using foreign keys"
   ]
  },
  {
   "cell_type": "markdown",
   "metadata": {},
   "source": [
    "## CRM Schema\n",
    "\n",
    "In almost all cases, rather then just working with a single table you will typically need data from multiple tables. \n",
    "Doing this requires the use of **joins ** using shared columns from the two tables. \n",
    "\n",
    "In this lab, you'll use the same Customer Relationship Management (CRM) database that you saw from the previous lesson.\n",
    "<img src='images/Database-Schema.png' width=\"600\">"
   ]
  },
  {
   "cell_type": "markdown",
   "metadata": {},
   "source": [
    "## Connecting to the Database\n",
    "Import the necessary packages and connect to the database **data.sqlite**."
   ]
  },
  {
   "cell_type": "code",
   "execution_count": 4,
   "metadata": {},
   "outputs": [],
   "source": [
    "import sqlite3\n",
    "import pandas as pd\n",
    "\n",
    "con = sqlite3.connect('data.sqlite', detect_types=sqlite3.PARSE_COLNAMES)\n",
    "c = con.cursor()"
   ]
  },
  {
   "cell_type": "markdown",
   "metadata": {},
   "source": [
    "## Display the names of all the employees in Boston.\n",
    "Hint: join the employees and offices tables."
   ]
  },
  {
   "cell_type": "code",
   "execution_count": 9,
   "metadata": {},
   "outputs": [
    {
     "data": {
      "text/html": [
       "<div>\n",
       "<style scoped>\n",
       "    .dataframe tbody tr th:only-of-type {\n",
       "        vertical-align: middle;\n",
       "    }\n",
       "\n",
       "    .dataframe tbody tr th {\n",
       "        vertical-align: top;\n",
       "    }\n",
       "\n",
       "    .dataframe thead th {\n",
       "        text-align: right;\n",
       "    }\n",
       "</style>\n",
       "<table border=\"1\" class=\"dataframe\">\n",
       "  <thead>\n",
       "    <tr style=\"text-align: right;\">\n",
       "      <th></th>\n",
       "      <th>officeCode</th>\n",
       "      <th>city</th>\n",
       "      <th>phone</th>\n",
       "      <th>addressLine1</th>\n",
       "      <th>addressLine2</th>\n",
       "      <th>state</th>\n",
       "      <th>country</th>\n",
       "      <th>postalCode</th>\n",
       "      <th>territory</th>\n",
       "      <th>employeeNumber</th>\n",
       "      <th>lastName</th>\n",
       "      <th>firstName</th>\n",
       "      <th>extension</th>\n",
       "      <th>email</th>\n",
       "      <th>reportsTo</th>\n",
       "      <th>jobTitle</th>\n",
       "    </tr>\n",
       "  </thead>\n",
       "  <tbody>\n",
       "    <tr>\n",
       "      <th>0</th>\n",
       "      <td>2</td>\n",
       "      <td>Boston</td>\n",
       "      <td>+1 215 837 0825</td>\n",
       "      <td>1550 Court Place</td>\n",
       "      <td>Suite 102</td>\n",
       "      <td>MA</td>\n",
       "      <td>USA</td>\n",
       "      <td>02107</td>\n",
       "      <td>NA</td>\n",
       "      <td>1188</td>\n",
       "      <td>Firrelli</td>\n",
       "      <td>Julie</td>\n",
       "      <td>x2173</td>\n",
       "      <td>jfirrelli@classicmodelcars.com</td>\n",
       "      <td>1143</td>\n",
       "      <td>Sales Rep</td>\n",
       "    </tr>\n",
       "    <tr>\n",
       "      <th>1</th>\n",
       "      <td>2</td>\n",
       "      <td>Boston</td>\n",
       "      <td>+1 215 837 0825</td>\n",
       "      <td>1550 Court Place</td>\n",
       "      <td>Suite 102</td>\n",
       "      <td>MA</td>\n",
       "      <td>USA</td>\n",
       "      <td>02107</td>\n",
       "      <td>NA</td>\n",
       "      <td>1216</td>\n",
       "      <td>Patterson</td>\n",
       "      <td>Steve</td>\n",
       "      <td>x4334</td>\n",
       "      <td>spatterson@classicmodelcars.com</td>\n",
       "      <td>1143</td>\n",
       "      <td>Sales Rep</td>\n",
       "    </tr>\n",
       "  </tbody>\n",
       "</table>\n",
       "</div>"
      ],
      "text/plain": [
       "  officeCode    city            phone      addressLine1 addressLine2 state  \\\n",
       "0          2  Boston  +1 215 837 0825  1550 Court Place    Suite 102    MA   \n",
       "1          2  Boston  +1 215 837 0825  1550 Court Place    Suite 102    MA   \n",
       "\n",
       "  country postalCode territory employeeNumber   lastName firstName extension  \\\n",
       "0     USA      02107        NA           1188   Firrelli     Julie     x2173   \n",
       "1     USA      02107        NA           1216  Patterson     Steve     x4334   \n",
       "\n",
       "                             email reportsTo   jobTitle  \n",
       "0   jfirrelli@classicmodelcars.com      1143  Sales Rep  \n",
       "1  spatterson@classicmodelcars.com      1143  Sales Rep  "
      ]
     },
     "execution_count": 9,
     "metadata": {},
     "output_type": "execute_result"
    }
   ],
   "source": [
    "c.execute(\"\"\"SELECT * FROM offices\n",
    "                        JOIN employees\n",
    "                        USING(officeCode)\n",
    "                        WHERE city = 'Boston'; \"\"\")\n",
    "\n",
    "df = pd.DataFrame(c.fetchall()) #Take results and create dataframe\n",
    "df.columns = [i[0] for i in c.description]\n",
    "df\n"
   ]
  },
  {
   "cell_type": "markdown",
   "metadata": {},
   "source": [
    "## Do any offices have no employees?\n",
    "Hint: Combine the employees and offices tables and use a group by."
   ]
  },
  {
   "cell_type": "code",
   "execution_count": 30,
   "metadata": {},
   "outputs": [
    {
     "data": {
      "text/plain": [
       "[('San Francisco', 6),\n",
       " ('Boston', 2),\n",
       " ('NYC', 2),\n",
       " ('Paris', 5),\n",
       " ('Tokyo', 2),\n",
       " ('Sydney', 4),\n",
       " ('London', 2)]"
      ]
     },
     "execution_count": 30,
     "metadata": {},
     "output_type": "execute_result"
    }
   ],
   "source": [
    "c.execute(\"\"\"SELECT city, COUNT(*) FROM offices\n",
    "                        JOIN employees\n",
    "                        USING(officeCode)\n",
    "                        GROUP BY officeCode; \"\"\")\n",
    "\n",
    "c.fetchall() #Take results and create dataframe\n",
    "\n"
   ]
  },
  {
   "cell_type": "markdown",
   "metadata": {},
   "source": [
    "## Write 3 Questions of your own and answer them"
   ]
  },
  {
   "cell_type": "code",
   "execution_count": null,
   "metadata": {},
   "outputs": [],
   "source": [
    "# Answers will vary"
   ]
  },
  {
   "cell_type": "code",
   "execution_count": null,
   "metadata": {},
   "outputs": [],
   "source": [
    "# Your code here"
   ]
  },
  {
   "cell_type": "code",
   "execution_count": null,
   "metadata": {},
   "outputs": [],
   "source": [
    "# Your code here"
   ]
  },
  {
   "cell_type": "code",
   "execution_count": null,
   "metadata": {},
   "outputs": [],
   "source": [
    "# Your code here"
   ]
  },
  {
   "cell_type": "markdown",
   "metadata": {},
   "source": [
    "## Level Up: Display the names of each product each employee has sold"
   ]
  },
  {
   "cell_type": "code",
   "execution_count": 34,
   "metadata": {},
   "outputs": [
    {
     "data": {
      "text/html": [
       "<div>\n",
       "<style scoped>\n",
       "    .dataframe tbody tr th:only-of-type {\n",
       "        vertical-align: middle;\n",
       "    }\n",
       "\n",
       "    .dataframe tbody tr th {\n",
       "        vertical-align: top;\n",
       "    }\n",
       "\n",
       "    .dataframe thead th {\n",
       "        text-align: right;\n",
       "    }\n",
       "</style>\n",
       "<table border=\"1\" class=\"dataframe\">\n",
       "  <thead>\n",
       "    <tr style=\"text-align: right;\">\n",
       "      <th></th>\n",
       "      <th>employeeNumber</th>\n",
       "      <th>lastName</th>\n",
       "      <th>firstName</th>\n",
       "      <th>extension</th>\n",
       "      <th>email</th>\n",
       "      <th>officeCode</th>\n",
       "      <th>reportsTo</th>\n",
       "      <th>jobTitle</th>\n",
       "      <th>customerNumber</th>\n",
       "      <th>customerName</th>\n",
       "      <th>...</th>\n",
       "      <th>priceEach</th>\n",
       "      <th>orderLineNumber</th>\n",
       "      <th>productName</th>\n",
       "      <th>productLine</th>\n",
       "      <th>productScale</th>\n",
       "      <th>productVendor</th>\n",
       "      <th>productDescription</th>\n",
       "      <th>quantityInStock</th>\n",
       "      <th>buyPrice</th>\n",
       "      <th>MSRP</th>\n",
       "    </tr>\n",
       "  </thead>\n",
       "  <tbody>\n",
       "    <tr>\n",
       "      <th>0</th>\n",
       "      <td>1165</td>\n",
       "      <td>Jennings</td>\n",
       "      <td>Leslie</td>\n",
       "      <td>x3291</td>\n",
       "      <td>ljennings@classicmodelcars.com</td>\n",
       "      <td>1</td>\n",
       "      <td>1143</td>\n",
       "      <td>Sales Rep</td>\n",
       "      <td>124</td>\n",
       "      <td>Mini Gifts Distributors Ltd.</td>\n",
       "      <td>...</td>\n",
       "      <td>121.64</td>\n",
       "      <td>2</td>\n",
       "      <td>1958 Setra Bus</td>\n",
       "      <td>Trucks and Buses</td>\n",
       "      <td>1:12</td>\n",
       "      <td>Welly Diecast Productions</td>\n",
       "      <td>Model features 30 windows, skylights &amp; glare r...</td>\n",
       "      <td>1579</td>\n",
       "      <td>77.90</td>\n",
       "      <td>136.67</td>\n",
       "    </tr>\n",
       "    <tr>\n",
       "      <th>1</th>\n",
       "      <td>1165</td>\n",
       "      <td>Jennings</td>\n",
       "      <td>Leslie</td>\n",
       "      <td>x3291</td>\n",
       "      <td>ljennings@classicmodelcars.com</td>\n",
       "      <td>1</td>\n",
       "      <td>1143</td>\n",
       "      <td>Sales Rep</td>\n",
       "      <td>124</td>\n",
       "      <td>Mini Gifts Distributors Ltd.</td>\n",
       "      <td>...</td>\n",
       "      <td>101.50</td>\n",
       "      <td>4</td>\n",
       "      <td>1940 Ford Pickup Truck</td>\n",
       "      <td>Trucks and Buses</td>\n",
       "      <td>1:18</td>\n",
       "      <td>Studio M Art Models</td>\n",
       "      <td>This model features soft rubber tires, working...</td>\n",
       "      <td>2613</td>\n",
       "      <td>58.33</td>\n",
       "      <td>116.67</td>\n",
       "    </tr>\n",
       "    <tr>\n",
       "      <th>2</th>\n",
       "      <td>1165</td>\n",
       "      <td>Jennings</td>\n",
       "      <td>Leslie</td>\n",
       "      <td>x3291</td>\n",
       "      <td>ljennings@classicmodelcars.com</td>\n",
       "      <td>1</td>\n",
       "      <td>1143</td>\n",
       "      <td>Sales Rep</td>\n",
       "      <td>124</td>\n",
       "      <td>Mini Gifts Distributors Ltd.</td>\n",
       "      <td>...</td>\n",
       "      <td>43.27</td>\n",
       "      <td>3</td>\n",
       "      <td>1939 Cadillac Limousine</td>\n",
       "      <td>Vintage Cars</td>\n",
       "      <td>1:18</td>\n",
       "      <td>Studio M Art Models</td>\n",
       "      <td>Features completely detailed interior includin...</td>\n",
       "      <td>6645</td>\n",
       "      <td>23.14</td>\n",
       "      <td>50.31</td>\n",
       "    </tr>\n",
       "    <tr>\n",
       "      <th>3</th>\n",
       "      <td>1165</td>\n",
       "      <td>Jennings</td>\n",
       "      <td>Leslie</td>\n",
       "      <td>x3291</td>\n",
       "      <td>ljennings@classicmodelcars.com</td>\n",
       "      <td>1</td>\n",
       "      <td>1143</td>\n",
       "      <td>Sales Rep</td>\n",
       "      <td>124</td>\n",
       "      <td>Mini Gifts Distributors Ltd.</td>\n",
       "      <td>...</td>\n",
       "      <td>58.82</td>\n",
       "      <td>1</td>\n",
       "      <td>1996 Peterbilt 379 Stake Bed with Outrigger</td>\n",
       "      <td>Trucks and Buses</td>\n",
       "      <td>1:32</td>\n",
       "      <td>Red Start Diecast</td>\n",
       "      <td>This model features, opening doors, detailed e...</td>\n",
       "      <td>814</td>\n",
       "      <td>33.61</td>\n",
       "      <td>64.64</td>\n",
       "    </tr>\n",
       "    <tr>\n",
       "      <th>4</th>\n",
       "      <td>1165</td>\n",
       "      <td>Jennings</td>\n",
       "      <td>Leslie</td>\n",
       "      <td>x3291</td>\n",
       "      <td>ljennings@classicmodelcars.com</td>\n",
       "      <td>1</td>\n",
       "      <td>1143</td>\n",
       "      <td>Sales Rep</td>\n",
       "      <td>124</td>\n",
       "      <td>Mini Gifts Distributors Ltd.</td>\n",
       "      <td>...</td>\n",
       "      <td>173.17</td>\n",
       "      <td>7</td>\n",
       "      <td>1968 Ford Mustang</td>\n",
       "      <td>Classic Cars</td>\n",
       "      <td>1:12</td>\n",
       "      <td>Autoart Studio Design</td>\n",
       "      <td>Hood, doors and trunk all open to reveal highl...</td>\n",
       "      <td>68</td>\n",
       "      <td>95.34</td>\n",
       "      <td>194.57</td>\n",
       "    </tr>\n",
       "  </tbody>\n",
       "</table>\n",
       "<p>5 rows × 39 columns</p>\n",
       "</div>"
      ],
      "text/plain": [
       "  employeeNumber  lastName firstName extension  \\\n",
       "0           1165  Jennings    Leslie     x3291   \n",
       "1           1165  Jennings    Leslie     x3291   \n",
       "2           1165  Jennings    Leslie     x3291   \n",
       "3           1165  Jennings    Leslie     x3291   \n",
       "4           1165  Jennings    Leslie     x3291   \n",
       "\n",
       "                            email officeCode reportsTo   jobTitle  \\\n",
       "0  ljennings@classicmodelcars.com          1      1143  Sales Rep   \n",
       "1  ljennings@classicmodelcars.com          1      1143  Sales Rep   \n",
       "2  ljennings@classicmodelcars.com          1      1143  Sales Rep   \n",
       "3  ljennings@classicmodelcars.com          1      1143  Sales Rep   \n",
       "4  ljennings@classicmodelcars.com          1      1143  Sales Rep   \n",
       "\n",
       "  customerNumber                  customerName   ...   priceEach  \\\n",
       "0            124  Mini Gifts Distributors Ltd.   ...      121.64   \n",
       "1            124  Mini Gifts Distributors Ltd.   ...      101.50   \n",
       "2            124  Mini Gifts Distributors Ltd.   ...       43.27   \n",
       "3            124  Mini Gifts Distributors Ltd.   ...       58.82   \n",
       "4            124  Mini Gifts Distributors Ltd.   ...      173.17   \n",
       "\n",
       "  orderLineNumber                                  productName  \\\n",
       "0               2                               1958 Setra Bus   \n",
       "1               4                       1940 Ford Pickup Truck   \n",
       "2               3                      1939 Cadillac Limousine   \n",
       "3               1  1996 Peterbilt 379 Stake Bed with Outrigger   \n",
       "4               7                            1968 Ford Mustang   \n",
       "\n",
       "        productLine productScale              productVendor  \\\n",
       "0  Trucks and Buses         1:12  Welly Diecast Productions   \n",
       "1  Trucks and Buses         1:18        Studio M Art Models   \n",
       "2      Vintage Cars         1:18        Studio M Art Models   \n",
       "3  Trucks and Buses         1:32          Red Start Diecast   \n",
       "4      Classic Cars         1:12      Autoart Studio Design   \n",
       "\n",
       "                                  productDescription quantityInStock buyPrice  \\\n",
       "0  Model features 30 windows, skylights & glare r...            1579    77.90   \n",
       "1  This model features soft rubber tires, working...            2613    58.33   \n",
       "2  Features completely detailed interior includin...            6645    23.14   \n",
       "3  This model features, opening doors, detailed e...             814    33.61   \n",
       "4  Hood, doors and trunk all open to reveal highl...              68    95.34   \n",
       "\n",
       "     MSRP  \n",
       "0  136.67  \n",
       "1  116.67  \n",
       "2   50.31  \n",
       "3   64.64  \n",
       "4  194.57  \n",
       "\n",
       "[5 rows x 39 columns]"
      ]
     },
     "execution_count": 34,
     "metadata": {},
     "output_type": "execute_result"
    }
   ],
   "source": [
    "c.execute(\"\"\"SELECT * FROM employees\n",
    "                        JOIN customers\n",
    "                        ON employees.employeeNumber = customers.salesRepEmployeeNumber\n",
    "                        JOIN orders\n",
    "                        USING(customerNumber)\n",
    "                        JOIN orderdetails\n",
    "                        USING(orderNumber)\n",
    "                        JOIN products\n",
    "                        USING(productCode)\n",
    "                        ; \"\"\")\n",
    "\n",
    "# c.fetchall() #Take results and create dataframe\n",
    "df = pd.DataFrame(c.fetchall()) #Take results and create dataframe\n",
    "df.columns = [i[0] for i in c.description]\n",
    "df.head()"
   ]
  },
  {
   "cell_type": "markdown",
   "metadata": {},
   "source": [
    "## Level Up: Display the Number of Products each employee has sold"
   ]
  },
  {
   "cell_type": "code",
   "execution_count": null,
   "metadata": {},
   "outputs": [],
   "source": [
    "#Your code here"
   ]
  },
  {
   "cell_type": "markdown",
   "metadata": {},
   "source": [
    "## Summary"
   ]
  },
  {
   "cell_type": "markdown",
   "metadata": {},
   "source": [
    "Congrats! You now know how to use join statements, along with leveraging your foreign keys knowledge!"
   ]
  }
 ],
 "metadata": {
  "kernelspec": {
   "display_name": "Python 3",
   "language": "python",
   "name": "python3"
  },
  "language_info": {
   "codemirror_mode": {
    "name": "ipython",
    "version": 3
   },
   "file_extension": ".py",
   "mimetype": "text/x-python",
   "name": "python",
   "nbconvert_exporter": "python",
   "pygments_lexer": "ipython3",
   "version": "3.6.6"
  }
 },
 "nbformat": 4,
 "nbformat_minor": 2
}
