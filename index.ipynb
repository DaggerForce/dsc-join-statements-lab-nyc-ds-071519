{
 "cells": [
  {
   "cell_type": "markdown",
   "metadata": {},
   "source": [
    "# Join Statements - Lab\n",
    "\n",
    "## Introduction\n",
    "\n",
    "In this lab, you'll practice your knowledge of join statements, using various types of joins and various methods for specifying the links between them.\n",
    "\n",
    "## Objectives\n",
    "\n",
    "You will be able to:\n",
    "- Write queries that make use of various types of Joins\n",
    "- Join tables using foreign keys"
   ]
  },
  {
   "cell_type": "markdown",
   "metadata": {},
   "source": [
    "## CRM Schema\n",
    "\n",
    "In almost all cases, rather then just working with a single table you will typically need data from multiple tables. \n",
    "Doing this requires the use of **joins ** using shared columns from the two tables. \n",
    "\n",
    "In this lab, you'll use the same Customer Relationship Management (CRM) database that you saw from the previous lesson.\n",
    "<img src='images/Database-Schema.png' width=\"600\">"
   ]
  },
  {
   "cell_type": "markdown",
   "metadata": {},
   "source": [
    "## Connecting to the Database\n",
    "Import the necessary packages and connect to the database **data.sqlite**."
   ]
  },
  {
   "cell_type": "code",
   "execution_count": 4,
   "metadata": {},
   "outputs": [],
   "source": [
    "import sqlite3\n",
    "import pandas as pd\n",
    "\n",
    "con = sqlite3.connect('data.sqlite', detect_types=sqlite3.PARSE_COLNAMES)\n",
    "c = con.cursor()"
   ]
  },
  {
   "cell_type": "markdown",
   "metadata": {},
   "source": [
    "## Display the names of all the employees in Boston.\n",
    "Hint: join the employees and offices tables."
   ]
  },
  {
   "cell_type": "code",
   "execution_count": 7,
   "metadata": {},
   "outputs": [
    {
     "data": {
      "text/html": [
       "<div>\n",
       "<style scoped>\n",
       "    .dataframe tbody tr th:only-of-type {\n",
       "        vertical-align: middle;\n",
       "    }\n",
       "\n",
       "    .dataframe tbody tr th {\n",
       "        vertical-align: top;\n",
       "    }\n",
       "\n",
       "    .dataframe thead th {\n",
       "        text-align: right;\n",
       "    }\n",
       "</style>\n",
       "<table border=\"1\" class=\"dataframe\">\n",
       "  <thead>\n",
       "    <tr style=\"text-align: right;\">\n",
       "      <th></th>\n",
       "      <th>officeCode</th>\n",
       "      <th>city</th>\n",
       "      <th>phone</th>\n",
       "      <th>addressLine1</th>\n",
       "      <th>addressLine2</th>\n",
       "      <th>state</th>\n",
       "      <th>country</th>\n",
       "      <th>postalCode</th>\n",
       "      <th>territory</th>\n",
       "      <th>employeeNumber</th>\n",
       "      <th>lastName</th>\n",
       "      <th>firstName</th>\n",
       "      <th>extension</th>\n",
       "      <th>email</th>\n",
       "      <th>reportsTo</th>\n",
       "      <th>jobTitle</th>\n",
       "    </tr>\n",
       "  </thead>\n",
       "  <tbody>\n",
       "    <tr>\n",
       "      <th>0</th>\n",
       "      <td>1</td>\n",
       "      <td>San Francisco</td>\n",
       "      <td>+1 650 219 4782</td>\n",
       "      <td>100 Market Street</td>\n",
       "      <td>Suite 300</td>\n",
       "      <td>CA</td>\n",
       "      <td>USA</td>\n",
       "      <td>94080</td>\n",
       "      <td>NA</td>\n",
       "      <td>1002</td>\n",
       "      <td>Murphy</td>\n",
       "      <td>Diane</td>\n",
       "      <td>x5800</td>\n",
       "      <td>dmurphy@classicmodelcars.com</td>\n",
       "      <td></td>\n",
       "      <td>President</td>\n",
       "    </tr>\n",
       "    <tr>\n",
       "      <th>1</th>\n",
       "      <td>1</td>\n",
       "      <td>San Francisco</td>\n",
       "      <td>+1 650 219 4782</td>\n",
       "      <td>100 Market Street</td>\n",
       "      <td>Suite 300</td>\n",
       "      <td>CA</td>\n",
       "      <td>USA</td>\n",
       "      <td>94080</td>\n",
       "      <td>NA</td>\n",
       "      <td>1056</td>\n",
       "      <td>Patterson</td>\n",
       "      <td>Mary</td>\n",
       "      <td>x4611</td>\n",
       "      <td>mpatterso@classicmodelcars.com</td>\n",
       "      <td>1002</td>\n",
       "      <td>VP Sales</td>\n",
       "    </tr>\n",
       "    <tr>\n",
       "      <th>2</th>\n",
       "      <td>1</td>\n",
       "      <td>San Francisco</td>\n",
       "      <td>+1 650 219 4782</td>\n",
       "      <td>100 Market Street</td>\n",
       "      <td>Suite 300</td>\n",
       "      <td>CA</td>\n",
       "      <td>USA</td>\n",
       "      <td>94080</td>\n",
       "      <td>NA</td>\n",
       "      <td>1076</td>\n",
       "      <td>Firrelli</td>\n",
       "      <td>Jeff</td>\n",
       "      <td>x9273</td>\n",
       "      <td>jfirrelli@classicmodelcars.com</td>\n",
       "      <td>1002</td>\n",
       "      <td>VP Marketing</td>\n",
       "    </tr>\n",
       "    <tr>\n",
       "      <th>3</th>\n",
       "      <td>1</td>\n",
       "      <td>San Francisco</td>\n",
       "      <td>+1 650 219 4782</td>\n",
       "      <td>100 Market Street</td>\n",
       "      <td>Suite 300</td>\n",
       "      <td>CA</td>\n",
       "      <td>USA</td>\n",
       "      <td>94080</td>\n",
       "      <td>NA</td>\n",
       "      <td>1143</td>\n",
       "      <td>Bow</td>\n",
       "      <td>Anthony</td>\n",
       "      <td>x5428</td>\n",
       "      <td>abow@classicmodelcars.com</td>\n",
       "      <td>1056</td>\n",
       "      <td>Sales Manager (NA)</td>\n",
       "    </tr>\n",
       "    <tr>\n",
       "      <th>4</th>\n",
       "      <td>1</td>\n",
       "      <td>San Francisco</td>\n",
       "      <td>+1 650 219 4782</td>\n",
       "      <td>100 Market Street</td>\n",
       "      <td>Suite 300</td>\n",
       "      <td>CA</td>\n",
       "      <td>USA</td>\n",
       "      <td>94080</td>\n",
       "      <td>NA</td>\n",
       "      <td>1165</td>\n",
       "      <td>Jennings</td>\n",
       "      <td>Leslie</td>\n",
       "      <td>x3291</td>\n",
       "      <td>ljennings@classicmodelcars.com</td>\n",
       "      <td>1143</td>\n",
       "      <td>Sales Rep</td>\n",
       "    </tr>\n",
       "  </tbody>\n",
       "</table>\n",
       "</div>"
      ],
      "text/plain": [
       "  officeCode           city            phone       addressLine1 addressLine2  \\\n",
       "0          1  San Francisco  +1 650 219 4782  100 Market Street    Suite 300   \n",
       "1          1  San Francisco  +1 650 219 4782  100 Market Street    Suite 300   \n",
       "2          1  San Francisco  +1 650 219 4782  100 Market Street    Suite 300   \n",
       "3          1  San Francisco  +1 650 219 4782  100 Market Street    Suite 300   \n",
       "4          1  San Francisco  +1 650 219 4782  100 Market Street    Suite 300   \n",
       "\n",
       "  state country postalCode territory employeeNumber   lastName firstName  \\\n",
       "0    CA     USA      94080        NA           1002     Murphy     Diane   \n",
       "1    CA     USA      94080        NA           1056  Patterson      Mary   \n",
       "2    CA     USA      94080        NA           1076   Firrelli      Jeff   \n",
       "3    CA     USA      94080        NA           1143        Bow   Anthony   \n",
       "4    CA     USA      94080        NA           1165   Jennings    Leslie   \n",
       "\n",
       "  extension                           email reportsTo            jobTitle  \n",
       "0     x5800    dmurphy@classicmodelcars.com                     President  \n",
       "1     x4611  mpatterso@classicmodelcars.com      1002            VP Sales  \n",
       "2     x9273  jfirrelli@classicmodelcars.com      1002        VP Marketing  \n",
       "3     x5428       abow@classicmodelcars.com      1056  Sales Manager (NA)  \n",
       "4     x3291  ljennings@classicmodelcars.com      1143           Sales Rep  "
      ]
     },
     "execution_count": 7,
     "metadata": {},
     "output_type": "execute_result"
    }
   ],
   "source": [
    "c.execute(\"\"\"SELECT * FROM offices\n",
    "                        JOIN employees\n",
    "                        USING(officeCode)\"\"\")\n",
    "\n",
    "df = pd.DataFrame(c.fetchall()) #Take results and create dataframe\n",
    "df.columns = [i[0] for i in c.description]\n",
    "df.head()\n"
   ]
  },
  {
   "cell_type": "markdown",
   "metadata": {},
   "source": [
    "## Do any offices have no employees?\n",
    "Hint: Combine the employees and offices tables and use a group by."
   ]
  },
  {
   "cell_type": "code",
   "execution_count": null,
   "metadata": {},
   "outputs": [],
   "source": [
    "#Your code here"
   ]
  },
  {
   "cell_type": "markdown",
   "metadata": {},
   "source": [
    "## Write 3 Questions of your own and answer them"
   ]
  },
  {
   "cell_type": "code",
   "execution_count": null,
   "metadata": {},
   "outputs": [],
   "source": [
    "# Answers will vary"
   ]
  },
  {
   "cell_type": "code",
   "execution_count": null,
   "metadata": {},
   "outputs": [],
   "source": [
    "# Your code here"
   ]
  },
  {
   "cell_type": "code",
   "execution_count": null,
   "metadata": {},
   "outputs": [],
   "source": [
    "# Your code here"
   ]
  },
  {
   "cell_type": "code",
   "execution_count": null,
   "metadata": {},
   "outputs": [],
   "source": [
    "# Your code here"
   ]
  },
  {
   "cell_type": "markdown",
   "metadata": {},
   "source": [
    "## Level Up: Display the names of each product each employee has sold"
   ]
  },
  {
   "cell_type": "code",
   "execution_count": null,
   "metadata": {},
   "outputs": [],
   "source": [
    "# Your code here"
   ]
  },
  {
   "cell_type": "markdown",
   "metadata": {},
   "source": [
    "## Level Up: Display the Number of Products each employee has sold"
   ]
  },
  {
   "cell_type": "code",
   "execution_count": null,
   "metadata": {},
   "outputs": [],
   "source": [
    "#Your code here"
   ]
  },
  {
   "cell_type": "markdown",
   "metadata": {},
   "source": [
    "## Summary"
   ]
  },
  {
   "cell_type": "markdown",
   "metadata": {},
   "source": [
    "Congrats! You now know how to use join statements, along with leveraging your foreign keys knowledge!"
   ]
  }
 ],
 "metadata": {
  "kernelspec": {
   "display_name": "Python 3",
   "language": "python",
   "name": "python3"
  },
  "language_info": {
   "codemirror_mode": {
    "name": "ipython",
    "version": 3
   },
   "file_extension": ".py",
   "mimetype": "text/x-python",
   "name": "python",
   "nbconvert_exporter": "python",
   "pygments_lexer": "ipython3",
   "version": "3.6.6"
  }
 },
 "nbformat": 4,
 "nbformat_minor": 2
}
